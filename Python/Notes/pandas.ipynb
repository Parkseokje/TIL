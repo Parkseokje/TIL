{
 "nbformat": 4,
 "nbformat_minor": 2,
 "metadata": {
  "language_info": {
   "name": "python",
   "codemirror_mode": {
    "name": "ipython",
    "version": 3
   },
   "version": "3.7.3-final"
  },
  "orig_nbformat": 2,
  "file_extension": ".py",
  "mimetype": "text/x-python",
  "name": "python",
  "npconvert_exporter": "python",
  "pygments_lexer": "ipython3",
  "version": 3,
  "kernelspec": {
   "name": "python37664bit2ff07e5811b64193a8327c20307b50c6",
   "display_name": "Python 3.7.6 64-bit"
  }
 },
 "cells": [
  {
   "cell_type": "code",
   "execution_count": 22,
   "metadata": {},
   "outputs": [
    {
     "data": {
      "text/html": "<div>\n<style scoped>\n    .dataframe tbody tr th:only-of-type {\n        vertical-align: middle;\n    }\n\n    .dataframe tbody tr th {\n        vertical-align: top;\n    }\n\n    .dataframe thead th {\n        text-align: right;\n    }\n</style>\n<table border=\"1\" class=\"dataframe\">\n  <thead>\n    <tr style=\"text-align: right;\">\n      <th></th>\n      <th>Births</th>\n    </tr>\n  </thead>\n  <tbody>\n    <tr>\n      <th>count</th>\n      <td>3.000000</td>\n    </tr>\n    <tr>\n      <th>mean</th>\n      <td>400.000000</td>\n    </tr>\n    <tr>\n      <th>std</th>\n      <td>493.446046</td>\n    </tr>\n    <tr>\n      <th>min</th>\n      <td>77.000000</td>\n    </tr>\n    <tr>\n      <th>25%</th>\n      <td>116.000000</td>\n    </tr>\n    <tr>\n      <th>50%</th>\n      <td>155.000000</td>\n    </tr>\n    <tr>\n      <th>75%</th>\n      <td>561.500000</td>\n    </tr>\n    <tr>\n      <th>max</th>\n      <td>968.000000</td>\n    </tr>\n  </tbody>\n</table>\n</div>",
      "text/plain": "           Births\ncount    3.000000\nmean   400.000000\nstd    493.446046\nmin     77.000000\n25%    116.000000\n50%    155.000000\n75%    561.500000\nmax    968.000000"
     },
     "execution_count": 22,
     "metadata": {},
     "output_type": "execute_result"
    }
   ],
   "source": [
    "import pandas as pd\n",
    "\n",
    "names = ['Bob', 'Jessica', 'Mary']\n",
    "birth = [968,155,77]\n",
    "custom = [1,5,25]\n",
    "\n",
    "BabyDataset = list(zip(names,birth))\n",
    "df = pd.DataFrame(data = BabyDataset, columns=['Names','Births'])\n",
    "\n",
    "# df.head()\n",
    "# df.dtypes\n",
    "# df.index\n",
    "# df.columns\n",
    "# df['Names'] # Series Object\n",
    "# df[0:3] # Dataframe\n",
    "# df[df['Births'] > 100]\n",
    "df.describe()"
   ]
  },
  {
   "cell_type": "code",
   "execution_count": null,
   "metadata": {},
   "outputs": [],
   "source": []
  }
 ]
}