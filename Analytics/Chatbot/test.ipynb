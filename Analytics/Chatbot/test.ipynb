{
 "nbformat": 4,
 "nbformat_minor": 2,
 "metadata": {
  "language_info": {
   "name": "python",
   "codemirror_mode": {
    "name": "ipython",
    "version": 3
   },
   "version": "3.7.6-final"
  },
  "orig_nbformat": 2,
  "file_extension": ".py",
  "mimetype": "text/x-python",
  "name": "python",
  "npconvert_exporter": "python",
  "pygments_lexer": "ipython3",
  "version": 3,
  "kernelspec": {
   "name": "python37664bit2ff07e5811b64193a8327c20307b50c6",
   "display_name": "Python 3.7.6 64-bit"
  }
 },
 "cells": [
  {
   "cell_type": "code",
   "execution_count": 1,
   "metadata": {},
   "outputs": [
    {
     "name": "stdout",
     "output_type": "stream",
     "text": "Requirement already satisfied: numpy in /usr/local/lib/python3.7/site-packages (1.18.1)\nRequirement already satisfied: pandas in /usr/local/lib/python3.7/site-packages (1.0.1)\nRequirement already satisfied: matplotlib in /usr/local/lib/python3.7/site-packages (3.1.3)\nRequirement already satisfied: python-dateutil>=2.6.1 in /Users/seokje/Library/Python/3.7/lib/python/site-packages (from pandas) (2.8.1)\nRequirement already satisfied: pytz>=2017.2 in /usr/local/lib/python3.7/site-packages (from pandas) (2019.3)\nRequirement already satisfied: kiwisolver>=1.0.1 in /usr/local/lib/python3.7/site-packages (from matplotlib) (1.1.0)\nRequirement already satisfied: cycler>=0.10 in /usr/local/lib/python3.7/site-packages (from matplotlib) (0.10.0)\nRequirement already satisfied: pyparsing!=2.0.4,!=2.1.2,!=2.1.6,>=2.0.1 in /usr/local/lib/python3.7/site-packages (from matplotlib) (2.4.6)\nRequirement already satisfied: six>=1.5 in /Users/seokje/Library/Python/3.7/lib/python/site-packages (from python-dateutil>=2.6.1->pandas) (1.14.0)\nRequirement already satisfied: setuptools in /usr/local/lib/python3.7/site-packages (from kiwisolver>=1.0.1->matplotlib) (42.0.2)\n"
    }
   ],
   "source": [
    "# Python 3.7.7에서 테스트 하였습니다.\n",
    "# 라이브러리 설치\n",
    "import sys\n",
    "!{sys.executable} -m pip install numpy pandas matplotlib"
   ]
  },
  {
   "cell_type": "code",
   "execution_count": null,
   "metadata": {},
   "outputs": [],
   "source": [
    "# 사용할 데이터셋: data/dataset.csv\n",
    "# 생성할 데이터셋: \n",
    "#  1. userId별 intent flow table\n",
    "#  2. userId별, entityName,entityValue별 flow table\n",
    "#  3. 1+2를 병합"
   ]
  },
  {
   "cell_type": "code",
   "execution_count": null,
   "metadata": {},
   "outputs": [],
   "source": []
  }
 ]
}