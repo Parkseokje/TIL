{
 "nbformat": 4,
 "nbformat_minor": 2,
 "metadata": {
  "language_info": {
   "name": "python",
   "codemirror_mode": {
    "name": "ipython",
    "version": 3
   },
   "version": "3.7.6-final"
  },
  "orig_nbformat": 2,
  "file_extension": ".py",
  "mimetype": "text/x-python",
  "name": "python",
  "npconvert_exporter": "python",
  "pygments_lexer": "ipython3",
  "version": 3,
  "kernelspec": {
   "name": "python37664bit2ff07e5811b64193a8327c20307b50c6",
   "display_name": "Python 3.7.6 64-bit"
  }
 },
 "cells": [
  {
   "cell_type": "code",
   "execution_count": 20,
   "metadata": {},
   "outputs": [
    {
     "data": {
      "text/html": "<div>\n<style scoped>\n    .dataframe tbody tr th:only-of-type {\n        vertical-align: middle;\n    }\n\n    .dataframe tbody tr th {\n        vertical-align: top;\n    }\n\n    .dataframe thead th {\n        text-align: right;\n    }\n</style>\n<table border=\"1\" class=\"dataframe\">\n  <thead>\n    <tr style=\"text-align: right;\">\n      <th></th>\n      <th>col1</th>\n      <th>col2</th>\n      <th>col3</th>\n    </tr>\n  </thead>\n  <tbody>\n    <tr>\n      <th>0</th>\n      <td>A</td>\n      <td>a</td>\n      <td>a1</td>\n    </tr>\n    <tr>\n      <th>1</th>\n      <td>A</td>\n      <td>a</td>\n      <td>a2</td>\n    </tr>\n    <tr>\n      <th>2</th>\n      <td>A</td>\n      <td>b</td>\n      <td>b1</td>\n    </tr>\n    <tr>\n      <th>3</th>\n      <td>A</td>\n      <td>b</td>\n      <td>b2</td>\n    </tr>\n    <tr>\n      <th>4</th>\n      <td>A</td>\n      <td>c</td>\n      <td>c1</td>\n    </tr>\n    <tr>\n      <th>5</th>\n      <td>A</td>\n      <td>c</td>\n      <td>c2</td>\n    </tr>\n  </tbody>\n</table>\n</div>",
      "text/plain": "  col1 col2 col3\n0    A    a   a1\n1    A    a   a2\n2    A    b   b1\n3    A    b   b2\n4    A    c   c1\n5    A    c   c2"
     },
     "execution_count": 20,
     "metadata": {},
     "output_type": "execute_result"
    }
   ],
   "source": [
    "from collections import defaultdict\n",
    "import pandas as pd\n",
    "\n",
    "# read csv file\n",
    "# df = pd.read_csv('input.csv', header=None)\n",
    "\n",
    "df = pd.DataFrame([['A', 'a', 'a1'],\n",
    "                   ['A', 'a', 'a2'],\n",
    "                   ['A', 'b', 'b1'],\n",
    "                   ['A', 'b', 'b2'],\n",
    "                   ['A', 'c', 'c1'],\n",
    "                   ['A', 'c', 'c2']],\n",
    "                  columns=['col1', 'col2', 'col3'])\n",
    "df\n",
    "\n",
    "# d = defaultdict(lambda: defaultdict(list))\n",
    "\n",
    "# for row in df.itertuples():\n",
    "#     d[row[1]][row[2]].append(row[3])\n",
    "\n",
    "# d"
   ]
  },
  {
   "cell_type": "code",
   "execution_count": 33,
   "metadata": {},
   "outputs": [
    {
     "output_type": "execute_result",
     "data": {
      "text/plain": "                               {}),\n                          'adm_KF_S20': defaultdict(<function __main__.tree()>,\n                                      {}),\n                          'fallback_under3': defaultdict(<function __main__.tree()>,\n                                      {}),\n                          'smalltalk.user.cold': defaultdict(<function __main__.tree()>,\n                                      {}),\n                          'smalltalk.user.sad': defaultdict(<function __main__.tree()>,\n                                      {}),\n                          'smalltalk.user.sleepy': defaultdict(<function __main__.tree()>,\n                                      {})}),\n             'smalltalk.user.dryers': defaultdict(<function __main__.tree()>,\n                         {'adm_refreshinghouse': defaultdict(<function __main__.tree()>,\n                                      {})}),\n             'smalltalk.user.handsome': defaultdict(<function __main__.tree()>,\n                         {'FAQ_payment_method': defaultdict(<function __main__.tree()>,\n                                      {}),\n                          'FAQ_shipping_date': defaultdict(<function __main__.tree()>,\n                                      {}),\n                          'fallback_under3': defaultdict(<function __main__.tree()>,\n                                      {}),\n                          'smalltalk.agent.response': defaultdict(<function __main__.tree()>,\n                                      {}),\n                          'smalltalk.agent.sure': defaultdict(<function __main__.tree()>,\n                                      {}),\n                          'smalltalk.user.clothes': defaultdict(<function __main__.tree()>,\n                                      {}),\n                          'smalltalk.user.handsome': defaultdict(<function __main__.tree()>,\n                                      {})}),\n             'smalltalk.user.happy': defaultdict(<function __main__.tree()>,\n                         {'EP_customer_support': defaultdict(<function __main__.tree()>,\n                                      {}),\n                          'FAQ_payment_issue': defaultdict(<function __main__.tree()>,\n                                      {}),\n                          'FAQ_self_pick_up_precautions': defaultdict(<function __main__.tree()>,\n                                      {}),\n                          'Search_event_null': defaultdict(<function __main__.tree()>,\n                                      {}),\n                          'SiteNavi_offline_shop': defaultdict(<function __main__.tree()>,\n                                      {}),\n                          'SiteNavi_remote_service': defaultdict(<function __main__.tree()>,\n                                      {}),\n                          'adm_jblBar5.1': defaultdict(<function __main__.tree()>,\n                                      {}),\n                          'fallback': defaultdict(<function __main__.tree()>,\n                                      {}),\n                          'fallback_under3': defaultdict(<function __main__.tree()>,\n                                      {}),\n                          'smalltalk.agent.boring': defaultdict(<function __main__.tree()>,\n                                      {}),\n                          'smalltalk.agent.boss': defaultdict(<function __main__.tree()>,\n                                      {}),\n                          'smalltalk.agent.hate': defaultdict(<function __main__.tree()>,\n                                      {}),\n                          'smalltalk.user.happy': defaultdict(<function __main__.tree()>,\n                                      {})}),\n             'smalltalk.user.has_birthday': defaultdict(<function __main__.tree()>,\n                         {'FAQ_samsung_account': defaultdict(<function __main__.tree()>,\n                                      {})}),\n             'smalltalk.user.hot': defaultdict(<function __main__.tree()>,\n                         {'EP_start_epromoter': defaultdict(<function __main__.tree()>,\n                                      {}),\n                          'smalltalk.user.cold': defaultdict(<function __main__.tree()>,\n                                      {})}),\n             'smalltalk.user.joking': defaultdict(<function __main__.tree()>,\n                         {'SiteNavi_customer_service': defaultdict(<function __main__.tree()>,\n                                      {}),\n                          'adm_KF_ZFlip': defaultdict(<function __main__.tree()>,\n                                      {}),\n                          'fallback_under3': defaultdict(<function __main__.tree()>,\n                                      {})}),\n             'smalltalk.user.likes_agent': defaultdict(<function __main__.tree()>,\n                         {'FAQ_agent.how_to_use': defaultdict(<function __main__.tree()>,\n                                      {}),\n                          'StartOver_Welcome': defaultdict(<function __main__.tree()>,\n                                      {}),\n                          'fallback': defaultdict(<function __main__.tree()>,\n                                      {}),\n                          'smalltalk.dialog.hold_on': defaultdict(<function __main__.tree()>,\n                                      {})}),\n             'smalltalk.user.lonely': defaultdict(<function __main__.tree()>,\n                         {'FAQ_order_history': defaultdict(<function __main__.tree()>,\n                                      {}),\n                          'fallback': defaultdict(<function __main__.tree()>,\n                                      {}),\n                          'smalltalk.agent.chatbot': defaultdict(<function __main__.tree()>,\n                                      {}),\n                          'smalltalk.agent.hate': defaultdict(<function __main__.tree()>,\n                                      {})}),\n             'smalltalk.user.love.samsung': defaultdict(<function __main__.tree()>,\n                         {'adm_Apps_Samsung_Cloud': defaultdict(<function __main__.tree()>,\n                                      {}),\n                          'adm_popularityContents': defaultdict(<function __main__.tree()>,\n                                      {}),\n                          'smalltalk.dialog.hug': defaultdict(<function __main__.tree()>,\n                                      {}),\n                          'smalltalk.user.loveyou': defaultdict(<function __main__.tree()>,\n                                      {})}),\n             'smalltalk.user.loveyou': defaultdict(<function __main__.tree()>,\n                         {'FAQ_coupon_re': defaultdict(<function __main__.tree()>,\n                                      {}),\n                          'FAQ_shipping_fee': defaultdict(<function __main__.tree()>,\n                                      {}),\n                          'General_face_recognition': defaultdict(<function __main__.tree()>,\n                                      {}),\n                          'Search_product_스마트폰': defaultdict(<function __main__.tree()>,\n                                      {}),\n                          'StartOver_Welcome': defaultdict(<function __main__.tree()>,\n                                      {}),\n                          'adm_KF_ZFlip': defaultdict(<function __main__.tree()>,\n                                      {}),\n                          'adm_clip3': defaultdict(<function __main__.tree()>,\n                                      {}),\n                          'fallback_under3': defaultdict(<function __main__.tree()>,\n                                      {}),\n                          'smalltalk.agent.dance': defaultdict(<function __main__.tree()>,\n                                      {}),\n                          'smalltalk.user.loveyou': defaultdict(<function __main__.tree()>,\n                                      {})}),\n             'smalltalk.user.sad': defaultdict(<function __main__.tree()>,\n                         {'EP_start_epromoter': defaultdict(<function __main__.tree()>,\n                                      {}),\n                          'FAQ_combined_payment_method': defaultdict(<function __main__.tree()>,\n                                      {}),\n                          'Search_product': defaultdict(<function __main__.tree()>,\n                                      {}),\n                          'Search_product_null': defaultdict(<function __main__.tree()>,\n                                      {}),\n                          'StartOver': defaultdict(<function __main__.tree()>,\n                                      {}),\n                          'adm_KF_ZFlip': defaultdict(<function __main__.tree()>,\n                                      {}),\n                          'fallback': defaultdict(<function __main__.tree()>,\n                                      {}),\n                          'smalltalk.agent.response': defaultdict(<function __main__.tree()>,\n                                      {}),\n                          'smalltalk.agent.what_areyou_doing': defaultdict(<function __main__.tree()>,\n                                      {}),\n                          'smalltalk.user.sad': defaultdict(<function __main__.tree()>,\n                                      {}),\n                          'smalltalk.user.wants_to_see_agent_again': defaultdict(<function __main__.tree()>,\n                                      {})}),\n             'smalltalk.user.sleepy': defaultdict(<function __main__.tree()>,\n                         {'EP_start_epromoter': defaultdict(<function __main__.tree()>,\n                                      {}),\n                          'FAQ_payment_issue': defaultdict(<function __main__.tree()>,\n                                      {}),\n                          'Recommend_product': defaultdict(<function __main__.tree()>,\n                                      {}),\n                          'Search_model_code': defaultdict(<function __main__.tree()>,\n                                      {}),\n                          'SiteNavi_customer_service': defaultdict(<function __main__.tree()>,\n                                      {}),\n                          'SiteNavi_security': defaultdict(<function __main__.tree()>,\n                                      {}),\n                          'fallback': defaultdict(<function __main__.tree()>,\n                                      {}),\n                          'smalltalk.dialog.i_do_not_care': defaultdict(<function __main__.tree()>,\n                                      {}),\n                          'smalltalk.user.sleepy': defaultdict(<function __main__.tree()>,\n                                      {})}),\n             'smalltalk.user.thanks': defaultdict(<function __main__.tree()>,\n                         {'ChatbotNavi_faq': defaultdict(<function __main__.tree()>,\n                                      {}),\n                          'EP_customer_support': defaultdict(<function __main__.tree()>,\n                                      {}),\n                          'EP_start_epromoter': defaultdict(<function __main__.tree()>,\n                                      {}),\n                          'FAQ_shipping_date': defaultdict(<function __main__.tree()>,\n                                      {}),\n                          'FAQ_shipping_location_changement': defaultdict(<function __main__.tree()>,\n                                      {}),\n                          'General_camera_function_diaphragm': defaultdict(<function __main__.tree()>,\n                                      {}),\n                          'Search_product_스마트폰': defaultdict(<function __main__.tree()>,\n                                      {}),\n                          'StartOver': defaultdict(<function __main__.tree()>,\n                                      {}),\n                          'fallback': defaultdict(<function __main__.tree()>,\n                                      {}),\n                          'fallback_under3': defaultdict(<function __main__.tree()>,\n                                      {}),\n                          'insult': defaultdict(<function __main__.tree()>,\n                                      {}),\n                          'smalltalk.agent.bad': defaultdict(<function __main__.tree()>,\n                                      {}),\n                          'smalltalk.agent.funny': defaultdict(<function __main__.tree()>,\n                                      {}),\n                          'smalltalk.agent.response': defaultdict(<function __main__.tree()>,\n                                      {}),\n                          'smalltalk.agent.sure': defaultdict(<function __main__.tree()>,\n                                      {}),\n                          'smalltalk.user.likes_agent': defaultdict(<function __main__.tree()>,\n                                      {})}),\n             'smalltalk.user.thanks_for_reply': defaultdict(<function __main__.tree()>,\n                         {'FAQ_deliver_number': defaultdict(<function __main__.tree()>,\n                                      {}),\n                          'fallback': defaultdict(<function __main__.tree()>,\n                                      {}),\n                          'insult': defaultdict(<function __main__.tree()>,\n                                      {}),\n                          'smalltalk.agent.origin': defaultdict(<function __main__.tree()>,\n                                      {}),\n                          'smalltalk.agent.sure': defaultdict(<function __main__.tree()>,\n                                      {})}),\n             'smalltalk.user.waits': defaultdict(<function __main__.tree()>,\n                         {'FAQ_login': defaultdict(<function __main__.tree()>,\n                                      {}),\n                          'adm_Apps_Samsung_Cloud': defaultdict(<function __main__.tree()>,\n                                      {}),\n                          'fallback_under3': defaultdict(<function __main__.tree()>,\n                                      {}),\n                          'smalltalk.agent.what_areyou_doing': defaultdict(<function __main__.tree()>,\n                                      {}),\n                          'smalltalk.user.waits': defaultdict(<function __main__.tree()>,\n                                      {})}),\n             'smalltalk.user.wants_to_see_agent_again': defaultdict(<function __main__.tree()>,\n                         {'Search_product': defaultdict(<function __main__.tree()>,\n                                      {}),\n                          'SiteNavi_customer_service': defaultdict(<function __main__.tree()>,\n                                      {}),\n                          'smalltalk.agent.chatbot': defaultdict(<function __main__.tree()>,\n                                      {}),\n                          'smalltalk.agent.response': defaultdict(<function __main__.tree()>,\n                                      {})}),\n             'smalltalk.user.wants_to_talk': defaultdict(<function __main__.tree()>,\n                         {'FAQ_deliver_number': defaultdict(<function __main__.tree()>,\n                                      {}),\n                          'FAQ_incorporation_card': defaultdict(<function __main__.tree()>,\n                                      {}),\n                          'FAQ_order_history': defaultdict(<function __main__.tree()>,\n                                      {}),\n                          'FAQ_payment_issue': defaultdict(<function __main__.tree()>,\n                                      {}),\n                          'FAQ_payment_method': defaultdict(<function __main__.tree()>,\n                                      {}),\n                          'Search_product': defaultdict(<function __main__.tree()>,\n                                      {}),\n                          'Search_product_TV': defaultdict(<function __main__.tree()>,\n                                      {}),\n                          'Search_product_null': defaultdict(<function __main__.tree()>,\n                                      {}),\n                          'Search_product_스마트폰': defaultdict(<function __main__.tree()>,\n                                      {}),\n                          'Search_product_청소기': defaultdict(<function __main__.tree()>,\n                                      {}),\n                          'Search_product_프린터': defaultdict(<function __main__.tree()>,\n                                      {}),\n                          'SiteNavi_cubeMetal': defaultdict(<function __main__.tree()>,\n                                      {}),\n                          'SiteNavi_customer_service': defaultdict(<function __main__.tree()>,\n                                      {}),\n                          'SiteNavi_download': defaultdict(<function __main__.tree()>,\n                                      {}),\n                          'StartOver': defaultdict(<function __main__.tree()>,\n                                      {}),\n                          'adm_Apps_Find_My_Mobile': defaultdict(<function __main__.tree()>,\n                                      {}),\n                          'adm_KF_S20': defaultdict(<function __main__.tree()>,\n                                      {}),\n                          'adm_KF_ZFlip': defaultdict(<function __main__.tree()>,\n                                      {}),\n                          'adm_obf_preorder_benefit_S20': defaultdict(<function __main__.tree()>,\n                                      {}),\n                          'adm_thom_browne': defaultdict(<function __main__.tree()>,\n                                      {}),\n                          'fallback': defaultdict(<function __main__.tree()>,\n                                      {}),\n                          'fallback_under3': defaultdict(<function __main__.tree()>,\n                                      {}),\n                          'smalltalk.agent.chatbot': defaultdict(<function __main__.tree()>,\n                                      {}),\n                          'smalltalk.agent.sleep': defaultdict(<function __main__.tree()>,\n                                      {}),\n                          'smalltalk.dialog.hold_on': defaultdict(<function __main__.tree()>,\n                                      {}),\n                          'smalltalk.user.loveyou': defaultdict(<function __main__.tree()>,\n                                      {}),\n                          'smalltalk.user.thanks': defaultdict(<function __main__.tree()>,\n                                      {})}),\n             'smalltalk.user.where_are_we': defaultdict(<function __main__.tree()>,\n                         {'StartOver': defaultdict(<function __main__.tree()>,\n                                      {}),\n                          'StartOver_Welcome': defaultdict(<function __main__.tree()>,\n                                      {}),\n                          'smalltalk.agent.cute': defaultdict(<function __main__.tree()>,\n                                      {}),\n                          'smalltalk.agent.sure': defaultdict(<function __main__.tree()>,\n                                      {})}),\n             'smalltalk.user.who_i_am': defaultdict(<function __main__.tree()>,\n                         {'EP_customer_support': defaultdict(<function __main__.tree()>,\n                                      {}),\n                          'EP_start_epromoter': defaultdict(<function __main__.tree()>,\n                                      {}),\n                          'Search_product_null': defaultdict(<function __main__.tree()>,\n                                      {}),\n                          'fallback': defaultdict(<function __main__.tree()>,\n                                      {}),\n                          'fallback_under3': defaultdict(<function __main__.tree()>,\n                                      {})})})"
     },
     "metadata": {},
     "execution_count": 33
    }
   ],
   "source": [
    "import pandas as pd\n",
    "import numpy as np\n",
    "import matplotlib.pyplot as plt\n",
    "from collections import defaultdict\n",
    "\n",
    "df = pd.read_csv('../data/chatlogs_latest_21days.csv')\n",
    "df['date']=pd.to_datetime(df['createdAt'],format='%Y%m%d %H:%M')\n",
    "df.date = df.date.dt.tz_convert('Asia/Seoul')\n",
    "df['timestamp'] = df.date.values.astype(np.int64) // 10 ** 9 # ts: timestamp\n",
    "\n",
    "df1 = df[['userId', 'date', 'intent', 'timestamp']]\n",
    "\n",
    "intents = pd.DataFrame(data=df1.intent.unique(), columns=['intent'])\n",
    "# intents\n",
    "\n",
    "df2 = df1.sort_values(['userId','timestamp'], ascending=[True,True])\n",
    "df2['prev_intent'] = df2.groupby('userId')['intent'].shift()\n",
    "# df2[df2.prev_intent == 'ChatbotNavi_faq']\n",
    "# df2[df2.userId == '70fea51c-799b-4aa9-b649-f50cfe5e68ef']\n",
    "\n",
    "df3 = df2\n",
    "# df3 = df2[df2.userId == '70fea51c-799b-4aa9-b649-f50cfe5e68ef']\n",
    "df4 = df3.groupby(['prev_intent', 'intent'], as_index=False).size()\n",
    "df5 = df4.reset_index(name='value')\n",
    "df5['source'] = df5['prev_intent'].map(lambda x: intents[intents['intent'] == x].index[0])\n",
    "df5['target'] = df5['intent'].map(lambda x: intents[intents['intent'] == x].index[0])\n",
    "\n",
    "def tree(): return defaultdict(tree)\n",
    "def insert(tree, List):\n",
    "    for node in List:\n",
    "        tree = tree[node]\n",
    "\n",
    "result = tree()\n",
    "\n",
    "for index, row in df5.iterrows():\n",
    "    insert(result, [row['prev_intent'], row['intent']])\n",
    "\n",
    "result"
   ]
  },
  {
   "cell_type": "code",
   "execution_count": null,
   "metadata": {},
   "outputs": [],
   "source": []
  }
 ]
}